{
 "cells": [
  {
   "cell_type": "code",
   "execution_count": 20,
   "metadata": {
    "collapsed": false
   },
   "outputs": [
    {
     "data": {
      "text/html": [
       "\n",
       "    <div class=\"bk-root\">\n",
       "        <a href=\"http://bokeh.pydata.org\" target=\"_blank\" class=\"bk-logo bk-logo-small bk-logo-notebook\"></a>\n",
       "        <span id=\"e3e8a73b-c306-4f91-80f4-f5f7cb919901\">Loading BokehJS ...</span>\n",
       "    </div>"
      ]
     },
     "metadata": {},
     "output_type": "display_data"
    },
    {
     "data": {
      "application/javascript": [
       "\n",
       "(function(global) {\n",
       "  function now() {\n",
       "    return new Date();\n",
       "  }\n",
       "\n",
       "  var force = \"1\";\n",
       "\n",
       "  if (typeof (window._bokeh_onload_callbacks) === \"undefined\" || force !== \"\") {\n",
       "    window._bokeh_onload_callbacks = [];\n",
       "    window._bokeh_is_loading = undefined;\n",
       "  }\n",
       "\n",
       "\n",
       "  \n",
       "  if (typeof (window._bokeh_timeout) === \"undefined\" || force !== \"\") {\n",
       "    window._bokeh_timeout = Date.now() + 5000;\n",
       "    window._bokeh_failed_load = false;\n",
       "  }\n",
       "\n",
       "  var NB_LOAD_WARNING = {'data': {'text/html':\n",
       "     \"<div style='background-color: #fdd'>\\n\"+\n",
       "     \"<p>\\n\"+\n",
       "     \"BokehJS does not appear to have successfully loaded. If loading BokehJS from CDN, this \\n\"+\n",
       "     \"may be due to a slow or bad network connection. Possible fixes:\\n\"+\n",
       "     \"</p>\\n\"+\n",
       "     \"<ul>\\n\"+\n",
       "     \"<li>re-rerun `output_notebook()` to attempt to load from CDN again, or</li>\\n\"+\n",
       "     \"<li>use INLINE resources instead, as so:</li>\\n\"+\n",
       "     \"</ul>\\n\"+\n",
       "     \"<code>\\n\"+\n",
       "     \"from bokeh.resources import INLINE\\n\"+\n",
       "     \"output_notebook(resources=INLINE)\\n\"+\n",
       "     \"</code>\\n\"+\n",
       "     \"</div>\"}};\n",
       "\n",
       "  function display_loaded() {\n",
       "    if (window.Bokeh !== undefined) {\n",
       "      Bokeh.$(\"#e3e8a73b-c306-4f91-80f4-f5f7cb919901\").text(\"BokehJS successfully loaded.\");\n",
       "    } else if (Date.now() < window._bokeh_timeout) {\n",
       "      setTimeout(display_loaded, 100)\n",
       "    }\n",
       "  }\n",
       "\n",
       "  function run_callbacks() {\n",
       "    window._bokeh_onload_callbacks.forEach(function(callback) { callback() });\n",
       "    delete window._bokeh_onload_callbacks\n",
       "    console.info(\"Bokeh: all callbacks have finished\");\n",
       "  }\n",
       "\n",
       "  function load_libs(js_urls, callback) {\n",
       "    window._bokeh_onload_callbacks.push(callback);\n",
       "    if (window._bokeh_is_loading > 0) {\n",
       "      console.log(\"Bokeh: BokehJS is being loaded, scheduling callback at\", now());\n",
       "      return null;\n",
       "    }\n",
       "    if (js_urls == null || js_urls.length === 0) {\n",
       "      run_callbacks();\n",
       "      return null;\n",
       "    }\n",
       "    console.log(\"Bokeh: BokehJS not loaded, scheduling load and callback at\", now());\n",
       "    window._bokeh_is_loading = js_urls.length;\n",
       "    for (var i = 0; i < js_urls.length; i++) {\n",
       "      var url = js_urls[i];\n",
       "      var s = document.createElement('script');\n",
       "      s.src = url;\n",
       "      s.async = false;\n",
       "      s.onreadystatechange = s.onload = function() {\n",
       "        window._bokeh_is_loading--;\n",
       "        if (window._bokeh_is_loading === 0) {\n",
       "          console.log(\"Bokeh: all BokehJS libraries loaded\");\n",
       "          run_callbacks()\n",
       "        }\n",
       "      };\n",
       "      s.onerror = function() {\n",
       "        console.warn(\"failed to load library \" + url);\n",
       "      };\n",
       "      console.log(\"Bokeh: injecting script tag for BokehJS library: \", url);\n",
       "      document.getElementsByTagName(\"head\")[0].appendChild(s);\n",
       "    }\n",
       "  };var element = document.getElementById(\"e3e8a73b-c306-4f91-80f4-f5f7cb919901\");\n",
       "  if (element == null) {\n",
       "    console.log(\"Bokeh: ERROR: autoload.js configured with elementid 'e3e8a73b-c306-4f91-80f4-f5f7cb919901' but no matching script tag was found. \")\n",
       "    return false;\n",
       "  }\n",
       "\n",
       "  var js_urls = ['https://cdn.pydata.org/bokeh/release/bokeh-0.12.2.min.js', 'https://cdn.pydata.org/bokeh/release/bokeh-widgets-0.12.2.min.js', 'https://cdn.pydata.org/bokeh/release/bokeh-compiler-0.12.2.min.js'];\n",
       "\n",
       "  var inline_js = [\n",
       "    function(Bokeh) {\n",
       "      Bokeh.set_log_level(\"info\");\n",
       "    },\n",
       "    \n",
       "    function(Bokeh) {\n",
       "      \n",
       "      Bokeh.$(\"#e3e8a73b-c306-4f91-80f4-f5f7cb919901\").text(\"BokehJS is loading...\");\n",
       "    },\n",
       "    function(Bokeh) {\n",
       "      console.log(\"Bokeh: injecting CSS: https://cdn.pydata.org/bokeh/release/bokeh-0.12.2.min.css\");\n",
       "      Bokeh.embed.inject_css(\"https://cdn.pydata.org/bokeh/release/bokeh-0.12.2.min.css\");\n",
       "      console.log(\"Bokeh: injecting CSS: https://cdn.pydata.org/bokeh/release/bokeh-widgets-0.12.2.min.css\");\n",
       "      Bokeh.embed.inject_css(\"https://cdn.pydata.org/bokeh/release/bokeh-widgets-0.12.2.min.css\");\n",
       "    }\n",
       "  ];\n",
       "\n",
       "  function run_inline_js() {\n",
       "    \n",
       "    if ((window.Bokeh !== undefined) || (force === \"1\")) {\n",
       "      for (var i = 0; i < inline_js.length; i++) {\n",
       "        inline_js[i](window.Bokeh);\n",
       "      }if (force === \"1\") {\n",
       "        display_loaded();\n",
       "      }} else if (Date.now() < window._bokeh_timeout) {\n",
       "      setTimeout(run_inline_js, 100);\n",
       "    } else if (!window._bokeh_failed_load) {\n",
       "      console.log(\"Bokeh: BokehJS failed to load within specified timeout.\");\n",
       "      window._bokeh_failed_load = true;\n",
       "    } else if (!force) {\n",
       "      var cell = $(\"#e3e8a73b-c306-4f91-80f4-f5f7cb919901\").parents('.cell').data().cell;\n",
       "      cell.output_area.append_execute_result(NB_LOAD_WARNING)\n",
       "    }\n",
       "\n",
       "  }\n",
       "\n",
       "  if (window._bokeh_is_loading === 0) {\n",
       "    console.log(\"Bokeh: BokehJS loaded, going straight to plotting\");\n",
       "    run_inline_js();\n",
       "  } else {\n",
       "    load_libs(js_urls, function() {\n",
       "      console.log(\"Bokeh: BokehJS plotting callback run at\", now());\n",
       "      run_inline_js();\n",
       "    });\n",
       "  }\n",
       "}(this));"
      ]
     },
     "metadata": {},
     "output_type": "display_data"
    }
   ],
   "source": [
    "import numpy as np\n",
    "import pandas as pd\n",
    "import matplotlib.pyplot as plt\n",
    "import seaborn as sns\n",
    "import bokeh.io\n",
    "import bokeh.plotting\n",
    "import bokeh.mpl\n",
    "sns.set()\n",
    "\n",
    "# Shows plot in the Jupyter Notebook\n",
    "%matplotlib inline \n",
    "%config InlineBackend.figure_formats = {'png','retina'}\n",
    "\n",
    "bokeh.io.output_notebook()"
   ]
  },
  {
   "cell_type": "code",
   "execution_count": 1,
   "metadata": {
    "collapsed": false
   },
   "outputs": [
    {
     "name": "stdout",
     "output_type": "stream",
     "text": [
      "Hello, world.\n"
     ]
    }
   ],
   "source": [
    "print(\"Hello, world.\")\n"
   ]
  },
  {
   "cell_type": "code",
   "execution_count": 2,
   "metadata": {
    "collapsed": false
   },
   "outputs": [
    {
     "data": {
      "text/plain": [
       "9"
      ]
     },
     "execution_count": 2,
     "metadata": {},
     "output_type": "execute_result"
    }
   ],
   "source": [
    "4 + 5"
   ]
  },
  {
   "cell_type": "code",
   "execution_count": 3,
   "metadata": {
    "collapsed": false
   },
   "outputs": [
    {
     "data": {
      "text/plain": [
       "20"
      ]
     },
     "execution_count": 3,
     "metadata": {},
     "output_type": "execute_result"
    }
   ],
   "source": [
    "a = 4 + 5\n",
    "b = 5 + 6\n",
    "a + b"
   ]
  },
  {
   "cell_type": "markdown",
   "metadata": {},
   "source": [
    "I can type text."
   ]
  },
  {
   "cell_type": "code",
   "execution_count": 4,
   "metadata": {
    "collapsed": false
   },
   "outputs": [
    {
     "ename": "SyntaxError",
     "evalue": "invalid syntax (<ipython-input-4-04403bba12cb>, line 1)",
     "output_type": "error",
     "traceback": [
      "\u001b[0;36m  File \u001b[0;32m\"<ipython-input-4-04403bba12cb>\"\u001b[0;36m, line \u001b[0;32m1\u001b[0m\n\u001b[0;31m    I can *lightly emphasize* what I say.\u001b[0m\n\u001b[0m        ^\u001b[0m\n\u001b[0;31mSyntaxError\u001b[0m\u001b[0;31m:\u001b[0m invalid syntax\n"
     ]
    }
   ],
   "source": [
    "I can *lightly emphasize* what I say."
   ]
  },
  {
   "cell_type": "markdown",
   "metadata": {},
   "source": [
    "I can *lightly emphasize* what I say"
   ]
  },
  {
   "cell_type": "markdown",
   "metadata": {},
   "source": [
    "I can *lightly emphasize* what I say.\n",
    "I can **Strongly emphasize** what I say."
   ]
  },
  {
   "cell_type": "markdown",
   "metadata": {},
   "source": [
    "I can type text.\n",
    "\n",
    "The equation of the day is $m = m_0 e^{rt}$.\n",
    "\n",
    "Check out this multiline equation,\n",
    "\n",
    "\\begin{align}\n",
    "\\frac{\\mathrm(d)m}{\\mathrm(d)t} &= rt \\\\\n",
    "m &= m_0 e^{rt}\n",
    "\\end{align}"
   ]
  },
  {
   "cell_type": "code",
   "execution_count": 9,
   "metadata": {
    "collapsed": true
   },
   "outputs": [],
   "source": [
    "df = pd.read_csv('data/grant_1987.csv', comment='#')"
   ]
  },
  {
   "cell_type": "markdown",
   "metadata": {},
   "source": []
  },
  {
   "cell_type": "code",
   "execution_count": 24,
   "metadata": {
    "collapsed": false
   },
   "outputs": [
    {
     "name": "stderr",
     "output_type": "stream",
     "text": [
      "C:\\Users\\Emily Savela\\Anaconda3\\lib\\site-packages\\bokeh\\core\\compat\\mplexporter\\exporter.py:171: UserWarning: Legend element Line2D(Beak depth, mm) not implemented\n",
      "  warnings.warn(\"Legend element %s not implemented\" % child)\n",
      "C:\\Users\\Emily Savela\\Anaconda3\\lib\\site-packages\\bokeh\\core\\compat\\bokeh_renderer.py:246: UserWarning: Path drawing has performance issues, please use mpl PathCollection instead\n",
      "  warnings.warn(\"Path drawing has performance issues, please use mpl PathCollection instead\")\n"
     ]
    },
    {
     "data": {
      "text/html": [
       "\n",
       "\n",
       "    <div class=\"bk-root\">\n",
       "        <div class=\"plotdiv\" id=\"29abc7a8-f30f-4d2f-ad72-7a0db0b5c036\"></div>\n",
       "    </div>\n",
       "<script type=\"text/javascript\">\n",
       "  \n",
       "  (function(global) {\n",
       "    function now() {\n",
       "      return new Date();\n",
       "    }\n",
       "  \n",
       "    var force = \"\";\n",
       "  \n",
       "    if (typeof (window._bokeh_onload_callbacks) === \"undefined\" || force !== \"\") {\n",
       "      window._bokeh_onload_callbacks = [];\n",
       "      window._bokeh_is_loading = undefined;\n",
       "    }\n",
       "  \n",
       "  \n",
       "    \n",
       "    if (typeof (window._bokeh_timeout) === \"undefined\" || force !== \"\") {\n",
       "      window._bokeh_timeout = Date.now() + 0;\n",
       "      window._bokeh_failed_load = false;\n",
       "    }\n",
       "  \n",
       "    var NB_LOAD_WARNING = {'data': {'text/html':\n",
       "       \"<div style='background-color: #fdd'>\\n\"+\n",
       "       \"<p>\\n\"+\n",
       "       \"BokehJS does not appear to have successfully loaded. If loading BokehJS from CDN, this \\n\"+\n",
       "       \"may be due to a slow or bad network connection. Possible fixes:\\n\"+\n",
       "       \"</p>\\n\"+\n",
       "       \"<ul>\\n\"+\n",
       "       \"<li>re-rerun `output_notebook()` to attempt to load from CDN again, or</li>\\n\"+\n",
       "       \"<li>use INLINE resources instead, as so:</li>\\n\"+\n",
       "       \"</ul>\\n\"+\n",
       "       \"<code>\\n\"+\n",
       "       \"from bokeh.resources import INLINE\\n\"+\n",
       "       \"output_notebook(resources=INLINE)\\n\"+\n",
       "       \"</code>\\n\"+\n",
       "       \"</div>\"}};\n",
       "  \n",
       "    function display_loaded() {\n",
       "      if (window.Bokeh !== undefined) {\n",
       "        Bokeh.$(\"#29abc7a8-f30f-4d2f-ad72-7a0db0b5c036\").text(\"BokehJS successfully loaded.\");\n",
       "      } else if (Date.now() < window._bokeh_timeout) {\n",
       "        setTimeout(display_loaded, 100)\n",
       "      }\n",
       "    }\n",
       "  \n",
       "    function run_callbacks() {\n",
       "      window._bokeh_onload_callbacks.forEach(function(callback) { callback() });\n",
       "      delete window._bokeh_onload_callbacks\n",
       "      console.info(\"Bokeh: all callbacks have finished\");\n",
       "    }\n",
       "  \n",
       "    function load_libs(js_urls, callback) {\n",
       "      window._bokeh_onload_callbacks.push(callback);\n",
       "      if (window._bokeh_is_loading > 0) {\n",
       "        console.log(\"Bokeh: BokehJS is being loaded, scheduling callback at\", now());\n",
       "        return null;\n",
       "      }\n",
       "      if (js_urls == null || js_urls.length === 0) {\n",
       "        run_callbacks();\n",
       "        return null;\n",
       "      }\n",
       "      console.log(\"Bokeh: BokehJS not loaded, scheduling load and callback at\", now());\n",
       "      window._bokeh_is_loading = js_urls.length;\n",
       "      for (var i = 0; i < js_urls.length; i++) {\n",
       "        var url = js_urls[i];\n",
       "        var s = document.createElement('script');\n",
       "        s.src = url;\n",
       "        s.async = false;\n",
       "        s.onreadystatechange = s.onload = function() {\n",
       "          window._bokeh_is_loading--;\n",
       "          if (window._bokeh_is_loading === 0) {\n",
       "            console.log(\"Bokeh: all BokehJS libraries loaded\");\n",
       "            run_callbacks()\n",
       "          }\n",
       "        };\n",
       "        s.onerror = function() {\n",
       "          console.warn(\"failed to load library \" + url);\n",
       "        };\n",
       "        console.log(\"Bokeh: injecting script tag for BokehJS library: \", url);\n",
       "        document.getElementsByTagName(\"head\")[0].appendChild(s);\n",
       "      }\n",
       "    };var element = document.getElementById(\"29abc7a8-f30f-4d2f-ad72-7a0db0b5c036\");\n",
       "    if (element == null) {\n",
       "      console.log(\"Bokeh: ERROR: autoload.js configured with elementid '29abc7a8-f30f-4d2f-ad72-7a0db0b5c036' but no matching script tag was found. \")\n",
       "      return false;\n",
       "    }\n",
       "  \n",
       "    var js_urls = [];\n",
       "  \n",
       "    var inline_js = [\n",
       "      function(Bokeh) {\n",
       "        Bokeh.$(function() {\n",
       "            var docs_json = {\"1e75547b-1177-4e67-90f7-a6aacbfdd1b1\":{\"roots\":{\"references\":[{\"attributes\":{\"plot\":{\"id\":\"bc4b254c-e3d0-45aa-8a98-4195df9bdf1b\",\"type\":\"Plot\"}},\"id\":\"463f4d48-4634-4ae7-b776-5ab3441a794c\",\"type\":\"PanTool\"},{\"attributes\":{\"active_drag\":\"auto\",\"active_scroll\":\"auto\",\"active_tap\":\"auto\",\"tools\":[{\"id\":\"463f4d48-4634-4ae7-b776-5ab3441a794c\",\"type\":\"PanTool\"},{\"id\":\"9dd4bde2-218d-4b45-9d76-e674defece20\",\"type\":\"WheelZoomTool\"},{\"id\":\"16249c0d-70e5-4ed5-8867-c0d9be1d1485\",\"type\":\"BoxZoomTool\"},{\"id\":\"34c41f1d-7ec1-4a0d-abc1-b265ce1c828a\",\"type\":\"SaveTool\"},{\"id\":\"39fa68c4-d366-4142-96fe-b8b198ac7a6b\",\"type\":\"ResetTool\"},{\"id\":\"25911689-e63e-43ba-a936-c010b2270062\",\"type\":\"HelpTool\"}]},\"id\":\"5cabd1da-1fba-4ecb-9d42-d3921c266a3a\",\"type\":\"Toolbar\"},{\"attributes\":{\"legends\":[[\"Beak depth, mm\",[{\"id\":\"3e353a89-4dc8-4608-a9f7-a9bf841bb0d5\",\"type\":\"GlyphRenderer\"}]],[\"Beak depth, mm\",[{\"id\":\"3c4a89f0-f0a8-41a6-93c3-100fb9cddf9c\",\"type\":\"GlyphRenderer\"}]]],\"plot\":{\"id\":\"bc4b254c-e3d0-45aa-8a98-4195df9bdf1b\",\"type\":\"Plot\"}},\"id\":\"eb7ed2ed-11d3-45d4-8a7a-133d0dcae1be\",\"type\":\"Legend\"},{\"attributes\":{},\"id\":\"7e3ab407-7b27-4aad-a231-ee6d99aec967\",\"type\":\"ToolEvents\"},{\"attributes\":{\"data_source\":{\"id\":\"e2f50e1a-ae7c-4d56-9104-c64a111c8dc7\",\"type\":\"ColumnDataSource\"},\"glyph\":{\"id\":\"2a52820f-69bf-41c4-aa74-b3f5a66ccc6b\",\"type\":\"Circle\"},\"hover_glyph\":null,\"nonselection_glyph\":null,\"selection_glyph\":null},\"id\":\"3e353a89-4dc8-4608-a9f7-a9bf841bb0d5\",\"type\":\"GlyphRenderer\"},{\"attributes\":{\"plot\":{\"id\":\"bc4b254c-e3d0-45aa-8a98-4195df9bdf1b\",\"type\":\"Plot\"}},\"id\":\"34c41f1d-7ec1-4a0d-abc1-b265ce1c828a\",\"type\":\"SaveTool\"},{\"attributes\":{\"plot\":{\"id\":\"bc4b254c-e3d0-45aa-8a98-4195df9bdf1b\",\"type\":\"Plot\"}},\"id\":\"9dd4bde2-218d-4b45-9d76-e674defece20\",\"type\":\"WheelZoomTool\"},{\"attributes\":{},\"id\":\"6064f23d-10ec-42ee-b312-ce3c9a9947f0\",\"type\":\"BasicTickFormatter\"},{\"attributes\":{\"callback\":null,\"column_names\":[\"Series 0\",\"Series 1\"],\"data\":{\"Series 0\":[10.75,13.73,14.04,12.5,12.64,12.66,13.0,13.15,13.96,13.15,13.7,14.0,13.43,14.0,14.9,13.6,13.8,14.9,13.94,14.81,12.5,13.75,14.0,14.5,14.7,14.05,14.17,15.07,11.5,13.5,13.87,14.9,12.34,14.34,15.07,14.01,12.86,13.6,13.8,13.85,13.9,14.1,14.1,14.2,14.3,14.9,13.84,14.09,14.05,14.15,14.25,13.6,14.57,11.89,13.8,14.21,14.76,12.07,13.9,14.1,14.3,14.95,14.34,13.84,14.04,14.14,12.56,15.14,14.35,14.85,14.04,14.2,14.3,14.5,14.5,14.6,15.0,13.6,14.65,14.03,14.16,13.83,14.2,14.35,14.45,14.64,15.04,13.9,14.34,14.53,14.2,14.85,15.1,15.2,13.5,14.95,13.83,13.95,15.09,13.43,13.7,14.0,14.15,14.75,14.9,15.0,13.56,14.26,13.83,14.53,14.84,15.0,13.76,13.9,14.29,14.63,14.3,13.6,14.4,14.9,14.9,14.34,14.53,14.65,14.8,16.0,13.14,14.44,12.73,15.04,14.85,14.2,15.2,16.0,14.47,14.54,14.9,14.9,15.8,13.46,14.77,14.44,15.2,16.0,14.4,14.45,15.35,14.2,15.3,14.27,15.8,15.3,11.24,15.2,15.44,14.96],\"Series 1\":[7.77,7.94,7.96,8.0,8.01,8.23,8.3,8.36,8.37,8.4,8.4,8.4,8.41,8.5,8.5,8.6,8.6,8.6,8.61,8.67,8.7,8.7,8.7,8.7,8.7,8.72,8.72,8.77,8.8,8.8,8.8,8.8,8.81,8.81,8.87,8.88,8.89,8.9,8.9,8.9,8.9,8.9,8.9,8.9,8.9,8.9,8.91,8.91,8.92,8.93,8.93,8.95,8.95,8.96,8.97,8.97,8.99,9.0,9.0,9.0,9.0,9.0,9.01,9.02,9.02,9.02,9.03,9.04,9.05,9.05,9.06,9.1,9.1,9.1,9.1,9.1,9.1,9.13,9.13,9.14,9.18,9.2,9.2,9.2,9.2,9.21,9.21,9.22,9.24,9.24,9.25,9.25,9.25,9.25,9.26,9.26,9.28,9.28,9.28,9.3,9.3,9.3,9.3,9.3,9.3,9.3,9.32,9.33,9.34,9.34,9.34,9.35,9.37,9.37,9.37,9.37,9.38,9.4,9.4,9.4,9.4,9.42,9.43,9.45,9.5,9.5,9.51,9.51,9.52,9.54,9.55,9.6,9.6,9.6,9.62,9.64,9.65,9.7,9.7,9.73,9.73,9.74,9.8,9.8,9.82,9.85,9.85,9.9,9.9,9.94,10.0,10.1,10.11,10.27,10.34,11.33]}},\"id\":\"053b2902-cd09-4d77-96ad-2f77f09e9d35\",\"type\":\"ColumnDataSource\"},{\"attributes\":{},\"id\":\"862c8de5-1d94-47ac-b905-fce4b1f46f51\",\"type\":\"BasicTicker\"},{\"attributes\":{\"plot\":null,\"text\":\"\"},\"id\":\"ca3dc55c-9c18-4139-b637-1cd178018fbf\",\"type\":\"Title\"},{\"attributes\":{\"fill_color\":{\"value\":\"#4C72B0\"},\"line_color\":{\"value\":\"#4C72B0\"},\"line_width\":{\"value\":0.0},\"size\":{\"units\":\"screen\",\"value\":7.0},\"x\":{\"field\":\"Series 0\"},\"y\":{\"field\":\"Series 1\"}},\"id\":\"2a52820f-69bf-41c4-aa74-b3f5a66ccc6b\",\"type\":\"Circle\"},{\"attributes\":{\"background_fill_color\":{\"value\":\"#EAEAF2\"},\"below\":[{\"id\":\"3f64dab8-c087-4768-aed6-371d7f1ab5bb\",\"type\":\"LinearAxis\"}],\"left\":[{\"id\":\"d245ce3c-1613-4994-a0a2-f9293d9880cf\",\"type\":\"LinearAxis\"}],\"plot_height\":288,\"plot_width\":432,\"renderers\":[{\"id\":\"3f64dab8-c087-4768-aed6-371d7f1ab5bb\",\"type\":\"LinearAxis\"},{\"id\":\"72f8f852-f070-4268-8291-ada633d820ee\",\"type\":\"Grid\"},{\"id\":\"d245ce3c-1613-4994-a0a2-f9293d9880cf\",\"type\":\"LinearAxis\"},{\"id\":\"b126ff92-0b60-4fac-bd22-4b3bd94eb921\",\"type\":\"Grid\"},{\"id\":\"eb7ed2ed-11d3-45d4-8a7a-133d0dcae1be\",\"type\":\"Legend\"},{\"id\":\"1a27e19b-4c7b-43ea-a925-1414476d5307\",\"type\":\"BoxAnnotation\"},{\"id\":\"3e353a89-4dc8-4608-a9f7-a9bf841bb0d5\",\"type\":\"GlyphRenderer\"},{\"id\":\"3c4a89f0-f0a8-41a6-93c3-100fb9cddf9c\",\"type\":\"GlyphRenderer\"}],\"title\":{\"id\":\"ca3dc55c-9c18-4139-b637-1cd178018fbf\",\"type\":\"Title\"},\"tool_events\":{\"id\":\"7e3ab407-7b27-4aad-a231-ee6d99aec967\",\"type\":\"ToolEvents\"},\"toolbar\":{\"id\":\"5cabd1da-1fba-4ecb-9d42-d3921c266a3a\",\"type\":\"Toolbar\"},\"x_range\":{\"id\":\"24c1326c-1078-4bae-88a0-941f639b6909\",\"type\":\"DataRange1d\"},\"y_range\":{\"id\":\"bef66639-dbc6-4c15-9595-c051f66e6d18\",\"type\":\"DataRange1d\"}},\"id\":\"bc4b254c-e3d0-45aa-8a98-4195df9bdf1b\",\"type\":\"Plot\"},{\"attributes\":{\"data_source\":{\"id\":\"053b2902-cd09-4d77-96ad-2f77f09e9d35\",\"type\":\"ColumnDataSource\"},\"glyph\":{\"id\":\"9c360333-8d64-4510-a69d-6452dcb4757d\",\"type\":\"Circle\"},\"hover_glyph\":null,\"nonselection_glyph\":null,\"selection_glyph\":null},\"id\":\"3c4a89f0-f0a8-41a6-93c3-100fb9cddf9c\",\"type\":\"GlyphRenderer\"},{\"attributes\":{\"callback\":null},\"id\":\"bef66639-dbc6-4c15-9595-c051f66e6d18\",\"type\":\"DataRange1d\"},{\"attributes\":{},\"id\":\"4316a5a5-19a3-4a11-976a-27e68055606b\",\"type\":\"BasicTicker\"},{\"attributes\":{\"overlay\":{\"id\":\"1a27e19b-4c7b-43ea-a925-1414476d5307\",\"type\":\"BoxAnnotation\"},\"plot\":{\"id\":\"bc4b254c-e3d0-45aa-8a98-4195df9bdf1b\",\"type\":\"Plot\"}},\"id\":\"16249c0d-70e5-4ed5-8867-c0d9be1d1485\",\"type\":\"BoxZoomTool\"},{\"attributes\":{\"dimension\":1,\"grid_line_color\":{\"value\":\"white\"},\"plot\":{\"id\":\"bc4b254c-e3d0-45aa-8a98-4195df9bdf1b\",\"type\":\"Plot\"},\"ticker\":{\"id\":\"4316a5a5-19a3-4a11-976a-27e68055606b\",\"type\":\"BasicTicker\"}},\"id\":\"b126ff92-0b60-4fac-bd22-4b3bd94eb921\",\"type\":\"Grid\"},{\"attributes\":{\"axis_label\":\"Beak Depth (mm)\",\"axis_label_text_font\":\"sans-serif\",\"axis_label_text_font_size\":{\"value\":\"11.000000pt\"},\"axis_label_text_font_style\":\"normal\",\"formatter\":{\"id\":\"6064f23d-10ec-42ee-b312-ce3c9a9947f0\",\"type\":\"BasicTickFormatter\"},\"major_label_text_font\":\"sans-serif\",\"major_label_text_font_size\":{\"value\":\"10.000000pt\"},\"plot\":{\"id\":\"bc4b254c-e3d0-45aa-8a98-4195df9bdf1b\",\"type\":\"Plot\"},\"ticker\":{\"id\":\"4316a5a5-19a3-4a11-976a-27e68055606b\",\"type\":\"BasicTicker\"}},\"id\":\"d245ce3c-1613-4994-a0a2-f9293d9880cf\",\"type\":\"LinearAxis\"},{\"attributes\":{\"callback\":null},\"id\":\"24c1326c-1078-4bae-88a0-941f639b6909\",\"type\":\"DataRange1d\"},{\"attributes\":{},\"id\":\"f5c886d1-54b8-4475-9d67-b1657d0f8c61\",\"type\":\"BasicTickFormatter\"},{\"attributes\":{\"fill_color\":{\"value\":\"#55A868\"},\"line_color\":{\"value\":\"#55A868\"},\"line_width\":{\"value\":0.0},\"size\":{\"units\":\"screen\",\"value\":7.0},\"x\":{\"field\":\"Series 0\"},\"y\":{\"field\":\"Series 1\"}},\"id\":\"9c360333-8d64-4510-a69d-6452dcb4757d\",\"type\":\"Circle\"},{\"attributes\":{\"callback\":null,\"column_names\":[\"Series 0\",\"Series 1\"],\"data\":{\"Series 0\":[9.1,9.14,9.24,9.2,8.83,9.14,9.04,10.56,9.7,9.25,9.5,9.34,9.64,9.04,9.8,9.28,9.5,10.8,9.24,10.24,9.74,9.2,9.95,9.34,9.35,10.1,9.96,9.27,9.4,9.68,10.19,10.0,10.25,11.3,9.83,11.04,10.16,10.74,10.19,9.46,9.5,9.7,10.0,10.05,10.3,10.5,9.94,10.04,10.24,9.2,9.3,10.04,10.34,10.34,10.04,9.86,9.73,9.45,10.0,9.78,9.64,9.8,10.0,10.0,10.8,9.64,10.14,10.24,10.74,10.74,11.14,11.24,9.84,9.86,9.96,10.57,10.0,10.95,9.89,9.99,9.1,9.8,9.85,10.0,10.0,10.0,10.18,10.4,10.9,10.04,10.14,10.24,10.54,9.04,9.24,10.06,10.26,10.2,10.93,10.64,10.74,9.4,9.55,9.8,9.83,10.0,10.0,10.3,10.6,11.5,10.24,10.5,10.84,9.94,10.36,9.8,10.09,9.8,9.9,10.0,10.0,10.0,10.1,11.3,12.0,10.14,10.34,10.34,10.54,10.54,10.94,11.04,11.14,11.14,11.24,12.14,9.94,9.95,10.05,10.35,10.86,10.18,9.45,10.19,10.84,9.4,9.5,9.8,9.85,10.0,10.1,10.4,10.45,10.57,10.8,10.9,11.4,9.64,10.04,10.24,10.44,10.54,10.64,10.84,10.94,11.14,11.14,11.29,11.79,9.84,11.15,9.76,10.06,10.87,11.86,10.83,10.39,10.64,9.7,10.09,10.67,10.95,9.96,9.7,9.97,10.1,10.37,10.9,10.9,11.1,11.15,11.8,10.14,10.19,10.24,10.24,10.54,10.54,10.54,10.74,11.24,11.24,10.05,10.24,10.94,10.59,9.9,10.04,10.35,11.2,11.8,11.1,10.0,10.1,10.1,10.13,10.2,10.33,10.4,10.4,10.7,10.7,10.9,10.9,11.1,11.6,11.6,11.8,10.44,10.54,10.64,10.74,10.76,10.79,10.84,11.04,11.29,11.84,10.04,11.1,11.2,10.76,10.76,11.0,11.46,10.3,10.9,9.94,10.24,10.99,10.47,10.7,12.21,10.35,10.52,10.0,10.3,10.6,10.75,10.8,11.0,12.0,10.04,10.24,10.24,10.34,10.34,10.64,11.24,11.54,11.54,10.74,11.04,10.1,10.76,10.04,10.27,10.87,10.0,10.35,11.04,9.98,10.03,10.49,10.5,10.57,10.8,11.34,11.69,10.98,11.51,9.66,10.46,9.7,10.5,10.6,10.83,10.9,11.3,11.4,12.0,10.24,10.24,10.34,10.35,10.89,10.9,11.04,11.09,11.14,11.14,11.34,11.34,11.54,10.54,10.63,10.85,10.85,10.95,11.04,11.25,11.25,10.46,11.96,10.49,10.73,11.07,10.45,10.65,10.71,11.2,11.25,10.37,10.72,12.22,9.5,10.0,10.2,10.4,10.55,10.6,10.6,10.7,10.7,10.7,10.7,10.75,10.8,10.9,10.9,10.9,11.0,11.3,11.9,10.24,10.39,10.63,10.84,11.14,11.24,11.24,11.34,11.34,12.14,11.03,11.04,11.2,11.06,11.16,10.21,10.97,11.83,10.9,11.0,11.0,10.5,10.63,10.85,11.45,10.1,10.3,10.4,10.5,10.6,10.9,10.9,11.0,11.0,11.15,11.15,11.3,12.81,10.09,10.84,10.94,11.04,11.04,11.14,11.14,11.14,11.24,11.24,11.24,11.34,10.95,10.66,10.96,10.96,11.56,10.4,10.6,10.75,10.9,10.73,11.2,9.9,10.0,10.2,10.4,10.5,11.1,11.2,11.3,11.8,10.34,11.24,11.44,11.54,12.04,10.94,11.1,11.67,13.57,10.61,10.66,10.96,10.96,11.21,11.55,11.96,10.67,10.8,11.3,10.8,11.0,11.51,11.6,10.67,10.77,11.3,11.55,11.6,12.15,10.4,10.5,10.5,10.5,10.5,10.8,10.8,10.9,10.9,10.9,11.0,11.1,11.1,11.15,11.2,11.5,11.8,12.9,11.04,11.14,11.14,11.24,11.24,11.24,11.64,11.84,10.7,11.2,12.0,11.36,11.86,12.16,10.85,11.0,11.29,11.0,11.94,12.25,11.96,10.0,10.4,10.7,10.7,10.8,10.8,10.85,10.9,11.0,11.1,11.15,11.17,11.2,11.3,11.5,11.7,11.9,12.1,9.14,11.02,11.04,11.24,11.24,11.44,11.44,11.44,11.54,11.54,10.84,10.5,10.86,11.06,11.15,11.26,11.36,12.16,11.6,11.65,10.64,10.2,11.04,11.88,10.3,10.7,10.87,11.0,11.0,11.0,11.13,11.2,11.2,11.3,11.4,11.4,11.04,11.14,11.14,11.24,11.24,11.29,10.34,11.14,11.58,11.84,12.44,10.96,11.46,11.67,10.43,10.73,10.94,11.94,11.1,12.05,10.81,11.29,10.5,10.7,10.9,10.9,11.0,11.0,11.0,11.1,11.2,11.4,11.6,11.7,11.8,11.8,11.9,12.3,11.19,11.24,11.34,11.49,11.64,11.74,11.74,10.94,11.04,11.15,11.3,10.96,11.16,11.26,12.1,10.7,12.3,10.94,11.39,12.01,10.94,11.2,11.34,11.7,11.86,10.8,11.0,11.2,11.3,11.5,11.5,11.7,11.8,11.82,11.9,12.0,11.14,11.74,11.84,12.24,10.95,11.14,11.84,11.84,12.05,12.17,11.04,11.06,11.16,11.46,11.1,11.85,10.67,11.2,10.6,10.6,10.9,11.0,11.0,11.0,11.1,11.13,11.2,11.3,11.3,11.5,11.5,11.7,11.9,12.0,12.8,11.44,11.94,11.84,11.93,10.66,11.55,12.29,11.5,11.16,11.06,11.2,11.3,11.6,11.7,11.34,11.44,11.49,11.74,11.03,11.28,11.45,11.84,10.96,11.26,12.66,13.96,11.05,11.4,11.44,11.02,11.4,11.9,10.25,11.0,11.6,12.3,11.54,11.54,11.74,11.74,10.86,11.96,11.15,11.42,11.33,10.8,11.0,11.1,11.3,11.4,11.4,11.8,11.8,11.83,11.06,11.79,11.87,12.27,11.83,11.93,10.89,11.6,11.8,12.85,11.29,11.6,11.7,11.9,12.0,12.0,12.75,12.24,11.65,11.76,11.86,11.44,11.0,11.1,11.1,11.7,11.8,12.2,11.54,11.64,11.94,12.34,11.0,11.84,11.84,11.36,11.46,11.56,10.34,11.73,12.25,11.55,11.7,11.9,11.54,12.32,11.95,11.27,12.3,11.65,12.4,12.84,11.76,11.9,10.9,11.0,11.6,11.44,11.85,12.1,12.73,11.5,11.8,11.7,11.85,12.2,13.65,11.78,11.7,11.87,12.8,12.04,11.46,11.53,11.23,12.26,14.07,13.03],\"Series 1\":[7.0,7.12,7.21,7.3,7.32,7.41,7.42,7.43,7.45,7.5,7.5,7.51,7.51,7.64,7.65,7.68,7.7,7.8,7.81,7.81,7.86,7.9,7.9,7.92,7.92,7.92,7.93,7.95,7.95,7.96,7.97,8.0,8.0,8.0,8.02,8.02,8.03,8.03,8.06,8.09,8.1,8.1,8.1,8.1,8.1,8.1,8.11,8.11,8.11,8.2,8.2,8.21,8.21,8.21,8.22,8.23,8.24,8.25,8.25,8.27,8.28,8.3,8.3,8.3,8.3,8.31,8.31,8.31,8.31,8.31,8.31,8.31,8.32,8.33,8.33,8.34,8.35,8.35,8.36,8.36,8.4,8.4,8.4,8.4,8.4,8.4,8.4,8.4,8.4,8.41,8.41,8.41,8.41,8.42,8.42,8.43,8.43,8.45,8.45,8.47,8.47,8.5,8.5,8.5,8.5,8.5,8.5,8.5,8.5,8.5,8.51,8.51,8.51,8.52,8.53,8.55,8.56,8.6,8.6,8.6,8.6,8.6,8.6,8.6,8.6,8.61,8.61,8.61,8.61,8.61,8.61,8.61,8.61,8.61,8.61,8.61,8.62,8.62,8.62,8.62,8.63,8.64,8.65,8.66,8.66,8.7,8.7,8.7,8.7,8.7,8.7,8.7,8.7,8.7,8.7,8.7,8.7,8.71,8.71,8.71,8.71,8.71,8.71,8.71,8.71,8.71,8.71,8.71,8.71,8.72,8.72,8.73,8.73,8.73,8.73,8.74,8.76,8.76,8.77,8.77,8.77,8.77,8.79,8.8,8.8,8.8,8.8,8.8,8.8,8.8,8.8,8.8,8.81,8.81,8.81,8.81,8.81,8.81,8.81,8.81,8.81,8.81,8.82,8.82,8.82,8.86,8.87,8.87,8.87,8.87,8.88,8.89,8.9,8.9,8.9,8.9,8.9,8.9,8.9,8.9,8.9,8.9,8.9,8.9,8.9,8.9,8.9,8.9,8.91,8.91,8.91,8.91,8.91,8.91,8.91,8.91,8.91,8.91,8.92,8.92,8.92,8.93,8.93,8.93,8.93,8.95,8.95,8.96,8.96,8.96,8.97,8.97,8.97,8.98,8.98,9.0,9.0,9.0,9.0,9.0,9.0,9.0,9.01,9.01,9.01,9.01,9.01,9.01,9.01,9.01,9.01,9.02,9.02,9.03,9.03,9.04,9.04,9.04,9.05,9.05,9.06,9.07,9.07,9.07,9.07,9.07,9.07,9.07,9.07,9.08,9.08,9.09,9.09,9.1,9.1,9.1,9.1,9.1,9.1,9.1,9.1,9.11,9.11,9.11,9.11,9.11,9.11,9.11,9.11,9.11,9.11,9.11,9.11,9.11,9.12,9.12,9.12,9.12,9.12,9.12,9.12,9.12,9.13,9.13,9.14,9.14,9.14,9.15,9.15,9.15,9.15,9.15,9.17,9.17,9.19,9.2,9.2,9.2,9.2,9.2,9.2,9.2,9.2,9.2,9.2,9.2,9.2,9.2,9.2,9.2,9.2,9.2,9.2,9.2,9.21,9.21,9.21,9.21,9.21,9.21,9.21,9.21,9.21,9.21,9.22,9.22,9.22,9.23,9.23,9.24,9.24,9.24,9.25,9.25,9.25,9.27,9.27,9.27,9.27,9.3,9.3,9.3,9.3,9.3,9.3,9.3,9.3,9.3,9.3,9.3,9.3,9.3,9.31,9.31,9.31,9.31,9.31,9.31,9.31,9.31,9.31,9.31,9.31,9.31,9.32,9.33,9.33,9.33,9.33,9.35,9.35,9.35,9.35,9.37,9.37,9.4,9.4,9.4,9.4,9.4,9.4,9.4,9.4,9.4,9.41,9.41,9.41,9.41,9.41,9.42,9.42,9.42,9.42,9.43,9.43,9.43,9.43,9.43,9.43,9.43,9.44,9.44,9.44,9.45,9.45,9.45,9.45,9.47,9.47,9.47,9.47,9.47,9.47,9.5,9.5,9.5,9.5,9.5,9.5,9.5,9.5,9.5,9.5,9.5,9.5,9.5,9.5,9.5,9.5,9.5,9.5,9.51,9.51,9.51,9.51,9.51,9.51,9.51,9.51,9.52,9.52,9.52,9.53,9.53,9.53,9.55,9.55,9.56,9.57,9.57,9.57,9.59,9.6,9.6,9.6,9.6,9.6,9.6,9.6,9.6,9.6,9.6,9.6,9.6,9.6,9.6,9.6,9.6,9.6,9.6,9.61,9.61,9.61,9.61,9.61,9.61,9.61,9.61,9.61,9.61,9.62,9.63,9.63,9.63,9.63,9.63,9.63,9.63,9.65,9.65,9.66,9.67,9.67,9.69,9.7,9.7,9.7,9.7,9.7,9.7,9.7,9.7,9.7,9.7,9.7,9.7,9.71,9.71,9.71,9.71,9.71,9.71,9.72,9.72,9.72,9.72,9.72,9.73,9.73,9.73,9.74,9.74,9.74,9.76,9.77,9.77,9.78,9.78,9.8,9.8,9.8,9.8,9.8,9.8,9.8,9.8,9.8,9.8,9.8,9.8,9.8,9.8,9.8,9.8,9.81,9.81,9.81,9.81,9.81,9.81,9.81,9.82,9.82,9.82,9.82,9.83,9.83,9.83,9.83,9.85,9.85,9.86,9.86,9.86,9.87,9.87,9.87,9.87,9.88,9.9,9.9,9.9,9.9,9.9,9.9,9.9,9.9,9.9,9.9,9.9,9.91,9.91,9.91,9.91,9.92,9.92,9.92,9.92,9.92,9.92,9.93,9.93,9.93,9.93,9.95,9.95,9.96,9.96,10.0,10.0,10.0,10.0,10.0,10.0,10.0,10.0,10.0,10.0,10.0,10.0,10.0,10.0,10.0,10.0,10.0,10.01,10.01,10.02,10.02,10.03,10.05,10.06,10.07,10.08,10.09,10.1,10.1,10.1,10.1,10.11,10.11,10.11,10.11,10.12,10.12,10.12,10.12,10.13,10.13,10.13,10.13,10.15,10.15,10.16,10.17,10.17,10.17,10.2,10.2,10.2,10.2,10.21,10.21,10.21,10.21,10.23,10.23,10.27,10.27,10.29,10.3,10.3,10.3,10.3,10.3,10.3,10.3,10.32,10.32,10.33,10.33,10.33,10.33,10.34,10.34,10.35,10.35,10.35,10.35,10.37,10.4,10.4,10.4,10.4,10.4,10.4,10.41,10.42,10.43,10.43,10.45,10.5,10.5,10.5,10.5,10.5,10.5,10.51,10.51,10.51,10.51,10.52,10.52,10.52,10.53,10.53,10.53,10.55,10.56,10.57,10.59,10.6,10.6,10.61,10.62,10.67,10.68,10.7,10.72,10.72,10.72,10.73,10.75,10.8,10.8,10.8,10.84,10.85,10.85,10.88,10.9,10.9,11.0,11.0,11.0,11.02,11.07,11.1,11.17,11.2,11.21,11.38,11.38,11.49,11.53,12.37,12.7]}},\"id\":\"e2f50e1a-ae7c-4d56-9104-c64a111c8dc7\",\"type\":\"ColumnDataSource\"},{\"attributes\":{\"plot\":{\"id\":\"bc4b254c-e3d0-45aa-8a98-4195df9bdf1b\",\"type\":\"Plot\"}},\"id\":\"25911689-e63e-43ba-a936-c010b2270062\",\"type\":\"HelpTool\"},{\"attributes\":{\"bottom_units\":\"screen\",\"fill_alpha\":{\"value\":0.5},\"fill_color\":{\"value\":\"lightgrey\"},\"left_units\":\"screen\",\"level\":\"overlay\",\"line_alpha\":{\"value\":1.0},\"line_color\":{\"value\":\"black\"},\"line_dash\":[4,4],\"line_width\":{\"value\":2},\"plot\":null,\"render_mode\":\"css\",\"right_units\":\"screen\",\"top_units\":\"screen\"},\"id\":\"1a27e19b-4c7b-43ea-a925-1414476d5307\",\"type\":\"BoxAnnotation\"},{\"attributes\":{\"axis_label\":\"Beak Length (mm)\",\"axis_label_text_font\":\"sans-serif\",\"axis_label_text_font_size\":{\"value\":\"11.000000pt\"},\"axis_label_text_font_style\":\"normal\",\"formatter\":{\"id\":\"f5c886d1-54b8-4475-9d67-b1657d0f8c61\",\"type\":\"BasicTickFormatter\"},\"major_label_text_font\":\"sans-serif\",\"major_label_text_font_size\":{\"value\":\"10.000000pt\"},\"plot\":{\"id\":\"bc4b254c-e3d0-45aa-8a98-4195df9bdf1b\",\"type\":\"Plot\"},\"ticker\":{\"id\":\"862c8de5-1d94-47ac-b905-fce4b1f46f51\",\"type\":\"BasicTicker\"}},\"id\":\"3f64dab8-c087-4768-aed6-371d7f1ab5bb\",\"type\":\"LinearAxis\"},{\"attributes\":{\"plot\":{\"id\":\"bc4b254c-e3d0-45aa-8a98-4195df9bdf1b\",\"type\":\"Plot\"}},\"id\":\"39fa68c4-d366-4142-96fe-b8b198ac7a6b\",\"type\":\"ResetTool\"},{\"attributes\":{\"grid_line_color\":{\"value\":\"white\"},\"plot\":{\"id\":\"bc4b254c-e3d0-45aa-8a98-4195df9bdf1b\",\"type\":\"Plot\"},\"ticker\":{\"id\":\"862c8de5-1d94-47ac-b905-fce4b1f46f51\",\"type\":\"BasicTicker\"}},\"id\":\"72f8f852-f070-4268-8291-ada633d820ee\",\"type\":\"Grid\"}],\"root_ids\":[\"bc4b254c-e3d0-45aa-8a98-4195df9bdf1b\"]},\"title\":\"Bokeh Application\",\"version\":\"0.12.2\"}};\n",
       "            var render_items = [{\"docid\":\"1e75547b-1177-4e67-90f7-a6aacbfdd1b1\",\"elementid\":\"29abc7a8-f30f-4d2f-ad72-7a0db0b5c036\",\"modelid\":\"bc4b254c-e3d0-45aa-8a98-4195df9bdf1b\"}];\n",
       "            \n",
       "            Bokeh.embed.embed_items(docs_json, render_items);\n",
       "        });\n",
       "      },\n",
       "      function(Bokeh) {\n",
       "      }\n",
       "    ];\n",
       "  \n",
       "    function run_inline_js() {\n",
       "      \n",
       "      if ((window.Bokeh !== undefined) || (force === \"1\")) {\n",
       "        for (var i = 0; i < inline_js.length; i++) {\n",
       "          inline_js[i](window.Bokeh);\n",
       "        }if (force === \"1\") {\n",
       "          display_loaded();\n",
       "        }} else if (Date.now() < window._bokeh_timeout) {\n",
       "        setTimeout(run_inline_js, 100);\n",
       "      } else if (!window._bokeh_failed_load) {\n",
       "        console.log(\"Bokeh: BokehJS failed to load within specified timeout.\");\n",
       "        window._bokeh_failed_load = true;\n",
       "      } else if (!force) {\n",
       "        var cell = $(\"#29abc7a8-f30f-4d2f-ad72-7a0db0b5c036\").parents('.cell').data().cell;\n",
       "        cell.output_area.append_execute_result(NB_LOAD_WARNING)\n",
       "      }\n",
       "  \n",
       "    }\n",
       "  \n",
       "    if (window._bokeh_is_loading === 0) {\n",
       "      console.log(\"Bokeh: BokehJS loaded, going straight to plotting\");\n",
       "      run_inline_js();\n",
       "    } else {\n",
       "      load_libs(js_urls, function() {\n",
       "        console.log(\"Bokeh: BokehJS plotting callback run at\", now());\n",
       "        run_inline_js();\n",
       "      });\n",
       "    }\n",
       "  }(this));\n",
       "</script>"
      ]
     },
     "metadata": {},
     "output_type": "display_data"
    }
   ],
   "source": [
    "bl_fortis = df.loc[df['species']=='fortis', 'Beak length, mm']\n",
    "bd_fortis = df.loc[df['species']=='fortis', 'Beak depth, mm']\n",
    "bl_scandens = df.loc[df['species']=='scandens', 'Beak length, mm']\n",
    "bd_scandens = df.loc[df['species']=='scandens', 'Beak depth, mm']\n",
    "\n",
    "plt.plot(bl_fortis, bd_fortis, marker='.', linestyle='none')\n",
    "plt.xlabel('Beak Length (mm)')\n",
    "plt.ylabel('Beak Depth (mm)')\n",
    "plt.plot(bl_scandens, bd_scandens, marker='.', linestyle='none')\n",
    "plt.legend(('fortis', 'scandens'), loc='upper right')\n",
    "\n",
    "# Make it interactive\n",
    "bokeh.plotting.show(bokeh.mpl.to_bokeh())"
   ]
  },
  {
   "cell_type": "code",
   "execution_count": 26,
   "metadata": {
    "collapsed": false
   },
   "outputs": [
    {
     "data": {
      "text/html": [
       "\n",
       "\n",
       "    <div class=\"bk-root\">\n",
       "        <div class=\"plotdiv\" id=\"c8b1758f-158b-4553-a740-904d78c2fd23\"></div>\n",
       "    </div>\n",
       "<script type=\"text/javascript\">\n",
       "  \n",
       "  (function(global) {\n",
       "    function now() {\n",
       "      return new Date();\n",
       "    }\n",
       "  \n",
       "    var force = \"\";\n",
       "  \n",
       "    if (typeof (window._bokeh_onload_callbacks) === \"undefined\" || force !== \"\") {\n",
       "      window._bokeh_onload_callbacks = [];\n",
       "      window._bokeh_is_loading = undefined;\n",
       "    }\n",
       "  \n",
       "  \n",
       "    \n",
       "    if (typeof (window._bokeh_timeout) === \"undefined\" || force !== \"\") {\n",
       "      window._bokeh_timeout = Date.now() + 0;\n",
       "      window._bokeh_failed_load = false;\n",
       "    }\n",
       "  \n",
       "    var NB_LOAD_WARNING = {'data': {'text/html':\n",
       "       \"<div style='background-color: #fdd'>\\n\"+\n",
       "       \"<p>\\n\"+\n",
       "       \"BokehJS does not appear to have successfully loaded. If loading BokehJS from CDN, this \\n\"+\n",
       "       \"may be due to a slow or bad network connection. Possible fixes:\\n\"+\n",
       "       \"</p>\\n\"+\n",
       "       \"<ul>\\n\"+\n",
       "       \"<li>re-rerun `output_notebook()` to attempt to load from CDN again, or</li>\\n\"+\n",
       "       \"<li>use INLINE resources instead, as so:</li>\\n\"+\n",
       "       \"</ul>\\n\"+\n",
       "       \"<code>\\n\"+\n",
       "       \"from bokeh.resources import INLINE\\n\"+\n",
       "       \"output_notebook(resources=INLINE)\\n\"+\n",
       "       \"</code>\\n\"+\n",
       "       \"</div>\"}};\n",
       "  \n",
       "    function display_loaded() {\n",
       "      if (window.Bokeh !== undefined) {\n",
       "        Bokeh.$(\"#c8b1758f-158b-4553-a740-904d78c2fd23\").text(\"BokehJS successfully loaded.\");\n",
       "      } else if (Date.now() < window._bokeh_timeout) {\n",
       "        setTimeout(display_loaded, 100)\n",
       "      }\n",
       "    }\n",
       "  \n",
       "    function run_callbacks() {\n",
       "      window._bokeh_onload_callbacks.forEach(function(callback) { callback() });\n",
       "      delete window._bokeh_onload_callbacks\n",
       "      console.info(\"Bokeh: all callbacks have finished\");\n",
       "    }\n",
       "  \n",
       "    function load_libs(js_urls, callback) {\n",
       "      window._bokeh_onload_callbacks.push(callback);\n",
       "      if (window._bokeh_is_loading > 0) {\n",
       "        console.log(\"Bokeh: BokehJS is being loaded, scheduling callback at\", now());\n",
       "        return null;\n",
       "      }\n",
       "      if (js_urls == null || js_urls.length === 0) {\n",
       "        run_callbacks();\n",
       "        return null;\n",
       "      }\n",
       "      console.log(\"Bokeh: BokehJS not loaded, scheduling load and callback at\", now());\n",
       "      window._bokeh_is_loading = js_urls.length;\n",
       "      for (var i = 0; i < js_urls.length; i++) {\n",
       "        var url = js_urls[i];\n",
       "        var s = document.createElement('script');\n",
       "        s.src = url;\n",
       "        s.async = false;\n",
       "        s.onreadystatechange = s.onload = function() {\n",
       "          window._bokeh_is_loading--;\n",
       "          if (window._bokeh_is_loading === 0) {\n",
       "            console.log(\"Bokeh: all BokehJS libraries loaded\");\n",
       "            run_callbacks()\n",
       "          }\n",
       "        };\n",
       "        s.onerror = function() {\n",
       "          console.warn(\"failed to load library \" + url);\n",
       "        };\n",
       "        console.log(\"Bokeh: injecting script tag for BokehJS library: \", url);\n",
       "        document.getElementsByTagName(\"head\")[0].appendChild(s);\n",
       "      }\n",
       "    };var element = document.getElementById(\"c8b1758f-158b-4553-a740-904d78c2fd23\");\n",
       "    if (element == null) {\n",
       "      console.log(\"Bokeh: ERROR: autoload.js configured with elementid 'c8b1758f-158b-4553-a740-904d78c2fd23' but no matching script tag was found. \")\n",
       "      return false;\n",
       "    }\n",
       "  \n",
       "    var js_urls = [];\n",
       "  \n",
       "    var inline_js = [\n",
       "      function(Bokeh) {\n",
       "        Bokeh.$(function() {\n",
       "            var docs_json = {\"e47f105f-1ca0-4010-989e-da8df1fdb0b3\":{\"roots\":{\"references\":[{\"attributes\":{\"plot\":{\"id\":\"8e7a5b96-c947-45b6-8a59-d9be30135176\",\"subtype\":\"Figure\",\"type\":\"Plot\"}},\"id\":\"9017cad4-90f5-4c8b-a424-e09b48398fbf\",\"type\":\"WheelZoomTool\"},{\"attributes\":{\"callback\":null},\"id\":\"7e09dffa-7984-41c9-abfe-2127ebd91754\",\"type\":\"DataRange1d\"},{\"attributes\":{\"plot\":null,\"text\":null},\"id\":\"54162ea0-e5d7-4ae7-9a49-233985fd8200\",\"type\":\"Title\"},{\"attributes\":{\"legends\":[[\"fortis\",[{\"id\":\"86bc1b27-5805-43ff-80c5-392ad1484a69\",\"type\":\"GlyphRenderer\"}]],[\"scandens\",[{\"id\":\"6ac3d998-3c73-4dfd-bfe7-cff42f6f2d80\",\"type\":\"GlyphRenderer\"}]]],\"plot\":{\"id\":\"8e7a5b96-c947-45b6-8a59-d9be30135176\",\"subtype\":\"Figure\",\"type\":\"Plot\"}},\"id\":\"56025d74-5202-446e-9250-669fbeea8494\",\"type\":\"Legend\"},{\"attributes\":{\"callback\":null,\"column_names\":[\"y\",\"x\"],\"data\":{\"x\":[9.1,9.14,9.24,9.2,8.83,9.14,9.04,10.56,9.7,9.25,9.5,9.34,9.64,9.04,9.8,9.28,9.5,10.8,9.24,10.24,9.74,9.2,9.95,9.34,9.35,10.1,9.96,9.27,9.4,9.68,10.19,10.0,10.25,11.3,9.83,11.04,10.16,10.74,10.19,9.46,9.5,9.7,10.0,10.05,10.3,10.5,9.94,10.04,10.24,9.2,9.3,10.04,10.34,10.34,10.04,9.86,9.73,9.45,10.0,9.78,9.64,9.8,10.0,10.0,10.8,9.64,10.14,10.24,10.74,10.74,11.14,11.24,9.84,9.86,9.96,10.57,10.0,10.95,9.89,9.99,9.1,9.8,9.85,10.0,10.0,10.0,10.18,10.4,10.9,10.04,10.14,10.24,10.54,9.04,9.24,10.06,10.26,10.2,10.93,10.64,10.74,9.4,9.55,9.8,9.83,10.0,10.0,10.3,10.6,11.5,10.24,10.5,10.84,9.94,10.36,9.8,10.09,9.8,9.9,10.0,10.0,10.0,10.1,11.3,12.0,10.14,10.34,10.34,10.54,10.54,10.94,11.04,11.14,11.14,11.24,12.14,9.94,9.95,10.05,10.35,10.86,10.18,9.45,10.19,10.84,9.4,9.5,9.8,9.85,10.0,10.1,10.4,10.45,10.57,10.8,10.9,11.4,9.64,10.04,10.24,10.44,10.54,10.64,10.84,10.94,11.14,11.14,11.29,11.79,9.84,11.15,9.76,10.06,10.87,11.86,10.83,10.39,10.64,9.7,10.09,10.67,10.95,9.96,9.7,9.97,10.1,10.37,10.9,10.9,11.1,11.15,11.8,10.14,10.19,10.24,10.24,10.54,10.54,10.54,10.74,11.24,11.24,10.05,10.24,10.94,10.59,9.9,10.04,10.35,11.2,11.8,11.1,10.0,10.1,10.1,10.13,10.2,10.33,10.4,10.4,10.7,10.7,10.9,10.9,11.1,11.6,11.6,11.8,10.44,10.54,10.64,10.74,10.76,10.79,10.84,11.04,11.29,11.84,10.04,11.1,11.2,10.76,10.76,11.0,11.46,10.3,10.9,9.94,10.24,10.99,10.47,10.7,12.21,10.35,10.52,10.0,10.3,10.6,10.75,10.8,11.0,12.0,10.04,10.24,10.24,10.34,10.34,10.64,11.24,11.54,11.54,10.74,11.04,10.1,10.76,10.04,10.27,10.87,10.0,10.35,11.04,9.98,10.03,10.49,10.5,10.57,10.8,11.34,11.69,10.98,11.51,9.66,10.46,9.7,10.5,10.6,10.83,10.9,11.3,11.4,12.0,10.24,10.24,10.34,10.35,10.89,10.9,11.04,11.09,11.14,11.14,11.34,11.34,11.54,10.54,10.63,10.85,10.85,10.95,11.04,11.25,11.25,10.46,11.96,10.49,10.73,11.07,10.45,10.65,10.71,11.2,11.25,10.37,10.72,12.22,9.5,10.0,10.2,10.4,10.55,10.6,10.6,10.7,10.7,10.7,10.7,10.75,10.8,10.9,10.9,10.9,11.0,11.3,11.9,10.24,10.39,10.63,10.84,11.14,11.24,11.24,11.34,11.34,12.14,11.03,11.04,11.2,11.06,11.16,10.21,10.97,11.83,10.9,11.0,11.0,10.5,10.63,10.85,11.45,10.1,10.3,10.4,10.5,10.6,10.9,10.9,11.0,11.0,11.15,11.15,11.3,12.81,10.09,10.84,10.94,11.04,11.04,11.14,11.14,11.14,11.24,11.24,11.24,11.34,10.95,10.66,10.96,10.96,11.56,10.4,10.6,10.75,10.9,10.73,11.2,9.9,10.0,10.2,10.4,10.5,11.1,11.2,11.3,11.8,10.34,11.24,11.44,11.54,12.04,10.94,11.1,11.67,13.57,10.61,10.66,10.96,10.96,11.21,11.55,11.96,10.67,10.8,11.3,10.8,11.0,11.51,11.6,10.67,10.77,11.3,11.55,11.6,12.15,10.4,10.5,10.5,10.5,10.5,10.8,10.8,10.9,10.9,10.9,11.0,11.1,11.1,11.15,11.2,11.5,11.8,12.9,11.04,11.14,11.14,11.24,11.24,11.24,11.64,11.84,10.7,11.2,12.0,11.36,11.86,12.16,10.85,11.0,11.29,11.0,11.94,12.25,11.96,10.0,10.4,10.7,10.7,10.8,10.8,10.85,10.9,11.0,11.1,11.15,11.17,11.2,11.3,11.5,11.7,11.9,12.1,9.14,11.02,11.04,11.24,11.24,11.44,11.44,11.44,11.54,11.54,10.84,10.5,10.86,11.06,11.15,11.26,11.36,12.16,11.6,11.65,10.64,10.2,11.04,11.88,10.3,10.7,10.87,11.0,11.0,11.0,11.13,11.2,11.2,11.3,11.4,11.4,11.04,11.14,11.14,11.24,11.24,11.29,10.34,11.14,11.58,11.84,12.44,10.96,11.46,11.67,10.43,10.73,10.94,11.94,11.1,12.05,10.81,11.29,10.5,10.7,10.9,10.9,11.0,11.0,11.0,11.1,11.2,11.4,11.6,11.7,11.8,11.8,11.9,12.3,11.19,11.24,11.34,11.49,11.64,11.74,11.74,10.94,11.04,11.15,11.3,10.96,11.16,11.26,12.1,10.7,12.3,10.94,11.39,12.01,10.94,11.2,11.34,11.7,11.86,10.8,11.0,11.2,11.3,11.5,11.5,11.7,11.8,11.82,11.9,12.0,11.14,11.74,11.84,12.24,10.95,11.14,11.84,11.84,12.05,12.17,11.04,11.06,11.16,11.46,11.1,11.85,10.67,11.2,10.6,10.6,10.9,11.0,11.0,11.0,11.1,11.13,11.2,11.3,11.3,11.5,11.5,11.7,11.9,12.0,12.8,11.44,11.94,11.84,11.93,10.66,11.55,12.29,11.5,11.16,11.06,11.2,11.3,11.6,11.7,11.34,11.44,11.49,11.74,11.03,11.28,11.45,11.84,10.96,11.26,12.66,13.96,11.05,11.4,11.44,11.02,11.4,11.9,10.25,11.0,11.6,12.3,11.54,11.54,11.74,11.74,10.86,11.96,11.15,11.42,11.33,10.8,11.0,11.1,11.3,11.4,11.4,11.8,11.8,11.83,11.06,11.79,11.87,12.27,11.83,11.93,10.89,11.6,11.8,12.85,11.29,11.6,11.7,11.9,12.0,12.0,12.75,12.24,11.65,11.76,11.86,11.44,11.0,11.1,11.1,11.7,11.8,12.2,11.54,11.64,11.94,12.34,11.0,11.84,11.84,11.36,11.46,11.56,10.34,11.73,12.25,11.55,11.7,11.9,11.54,12.32,11.95,11.27,12.3,11.65,12.4,12.84,11.76,11.9,10.9,11.0,11.6,11.44,11.85,12.1,12.73,11.5,11.8,11.7,11.85,12.2,13.65,11.78,11.7,11.87,12.8,12.04,11.46,11.53,11.23,12.26,14.07,13.03],\"y\":[7.0,7.12,7.21,7.3,7.32,7.41,7.42,7.43,7.45,7.5,7.5,7.51,7.51,7.64,7.65,7.68,7.7,7.8,7.81,7.81,7.86,7.9,7.9,7.92,7.92,7.92,7.93,7.95,7.95,7.96,7.97,8.0,8.0,8.0,8.02,8.02,8.03,8.03,8.06,8.09,8.1,8.1,8.1,8.1,8.1,8.1,8.11,8.11,8.11,8.2,8.2,8.21,8.21,8.21,8.22,8.23,8.24,8.25,8.25,8.27,8.28,8.3,8.3,8.3,8.3,8.31,8.31,8.31,8.31,8.31,8.31,8.31,8.32,8.33,8.33,8.34,8.35,8.35,8.36,8.36,8.4,8.4,8.4,8.4,8.4,8.4,8.4,8.4,8.4,8.41,8.41,8.41,8.41,8.42,8.42,8.43,8.43,8.45,8.45,8.47,8.47,8.5,8.5,8.5,8.5,8.5,8.5,8.5,8.5,8.5,8.51,8.51,8.51,8.52,8.53,8.55,8.56,8.6,8.6,8.6,8.6,8.6,8.6,8.6,8.6,8.61,8.61,8.61,8.61,8.61,8.61,8.61,8.61,8.61,8.61,8.61,8.62,8.62,8.62,8.62,8.63,8.64,8.65,8.66,8.66,8.7,8.7,8.7,8.7,8.7,8.7,8.7,8.7,8.7,8.7,8.7,8.7,8.71,8.71,8.71,8.71,8.71,8.71,8.71,8.71,8.71,8.71,8.71,8.71,8.72,8.72,8.73,8.73,8.73,8.73,8.74,8.76,8.76,8.77,8.77,8.77,8.77,8.79,8.8,8.8,8.8,8.8,8.8,8.8,8.8,8.8,8.8,8.81,8.81,8.81,8.81,8.81,8.81,8.81,8.81,8.81,8.81,8.82,8.82,8.82,8.86,8.87,8.87,8.87,8.87,8.88,8.89,8.9,8.9,8.9,8.9,8.9,8.9,8.9,8.9,8.9,8.9,8.9,8.9,8.9,8.9,8.9,8.9,8.91,8.91,8.91,8.91,8.91,8.91,8.91,8.91,8.91,8.91,8.92,8.92,8.92,8.93,8.93,8.93,8.93,8.95,8.95,8.96,8.96,8.96,8.97,8.97,8.97,8.98,8.98,9.0,9.0,9.0,9.0,9.0,9.0,9.0,9.01,9.01,9.01,9.01,9.01,9.01,9.01,9.01,9.01,9.02,9.02,9.03,9.03,9.04,9.04,9.04,9.05,9.05,9.06,9.07,9.07,9.07,9.07,9.07,9.07,9.07,9.07,9.08,9.08,9.09,9.09,9.1,9.1,9.1,9.1,9.1,9.1,9.1,9.1,9.11,9.11,9.11,9.11,9.11,9.11,9.11,9.11,9.11,9.11,9.11,9.11,9.11,9.12,9.12,9.12,9.12,9.12,9.12,9.12,9.12,9.13,9.13,9.14,9.14,9.14,9.15,9.15,9.15,9.15,9.15,9.17,9.17,9.19,9.2,9.2,9.2,9.2,9.2,9.2,9.2,9.2,9.2,9.2,9.2,9.2,9.2,9.2,9.2,9.2,9.2,9.2,9.2,9.21,9.21,9.21,9.21,9.21,9.21,9.21,9.21,9.21,9.21,9.22,9.22,9.22,9.23,9.23,9.24,9.24,9.24,9.25,9.25,9.25,9.27,9.27,9.27,9.27,9.3,9.3,9.3,9.3,9.3,9.3,9.3,9.3,9.3,9.3,9.3,9.3,9.3,9.31,9.31,9.31,9.31,9.31,9.31,9.31,9.31,9.31,9.31,9.31,9.31,9.32,9.33,9.33,9.33,9.33,9.35,9.35,9.35,9.35,9.37,9.37,9.4,9.4,9.4,9.4,9.4,9.4,9.4,9.4,9.4,9.41,9.41,9.41,9.41,9.41,9.42,9.42,9.42,9.42,9.43,9.43,9.43,9.43,9.43,9.43,9.43,9.44,9.44,9.44,9.45,9.45,9.45,9.45,9.47,9.47,9.47,9.47,9.47,9.47,9.5,9.5,9.5,9.5,9.5,9.5,9.5,9.5,9.5,9.5,9.5,9.5,9.5,9.5,9.5,9.5,9.5,9.5,9.51,9.51,9.51,9.51,9.51,9.51,9.51,9.51,9.52,9.52,9.52,9.53,9.53,9.53,9.55,9.55,9.56,9.57,9.57,9.57,9.59,9.6,9.6,9.6,9.6,9.6,9.6,9.6,9.6,9.6,9.6,9.6,9.6,9.6,9.6,9.6,9.6,9.6,9.6,9.61,9.61,9.61,9.61,9.61,9.61,9.61,9.61,9.61,9.61,9.62,9.63,9.63,9.63,9.63,9.63,9.63,9.63,9.65,9.65,9.66,9.67,9.67,9.69,9.7,9.7,9.7,9.7,9.7,9.7,9.7,9.7,9.7,9.7,9.7,9.7,9.71,9.71,9.71,9.71,9.71,9.71,9.72,9.72,9.72,9.72,9.72,9.73,9.73,9.73,9.74,9.74,9.74,9.76,9.77,9.77,9.78,9.78,9.8,9.8,9.8,9.8,9.8,9.8,9.8,9.8,9.8,9.8,9.8,9.8,9.8,9.8,9.8,9.8,9.81,9.81,9.81,9.81,9.81,9.81,9.81,9.82,9.82,9.82,9.82,9.83,9.83,9.83,9.83,9.85,9.85,9.86,9.86,9.86,9.87,9.87,9.87,9.87,9.88,9.9,9.9,9.9,9.9,9.9,9.9,9.9,9.9,9.9,9.9,9.9,9.91,9.91,9.91,9.91,9.92,9.92,9.92,9.92,9.92,9.92,9.93,9.93,9.93,9.93,9.95,9.95,9.96,9.96,10.0,10.0,10.0,10.0,10.0,10.0,10.0,10.0,10.0,10.0,10.0,10.0,10.0,10.0,10.0,10.0,10.0,10.01,10.01,10.02,10.02,10.03,10.05,10.06,10.07,10.08,10.09,10.1,10.1,10.1,10.1,10.11,10.11,10.11,10.11,10.12,10.12,10.12,10.12,10.13,10.13,10.13,10.13,10.15,10.15,10.16,10.17,10.17,10.17,10.2,10.2,10.2,10.2,10.21,10.21,10.21,10.21,10.23,10.23,10.27,10.27,10.29,10.3,10.3,10.3,10.3,10.3,10.3,10.3,10.32,10.32,10.33,10.33,10.33,10.33,10.34,10.34,10.35,10.35,10.35,10.35,10.37,10.4,10.4,10.4,10.4,10.4,10.4,10.41,10.42,10.43,10.43,10.45,10.5,10.5,10.5,10.5,10.5,10.5,10.51,10.51,10.51,10.51,10.52,10.52,10.52,10.53,10.53,10.53,10.55,10.56,10.57,10.59,10.6,10.6,10.61,10.62,10.67,10.68,10.7,10.72,10.72,10.72,10.73,10.75,10.8,10.8,10.8,10.84,10.85,10.85,10.88,10.9,10.9,11.0,11.0,11.0,11.02,11.07,11.1,11.17,11.2,11.21,11.38,11.38,11.49,11.53,12.37,12.7]}},\"id\":\"af06a78b-dd76-421a-b4a7-49364355f3d7\",\"type\":\"ColumnDataSource\"},{\"attributes\":{\"plot\":{\"id\":\"8e7a5b96-c947-45b6-8a59-d9be30135176\",\"subtype\":\"Figure\",\"type\":\"Plot\"}},\"id\":\"b609c0d3-ab58-48d0-9c09-2a6dee1f1602\",\"type\":\"ResetTool\"},{\"attributes\":{},\"id\":\"17f88a80-dc10-45e5-8af5-01c9b8b2f20d\",\"type\":\"ToolEvents\"},{\"attributes\":{\"active_drag\":\"auto\",\"active_scroll\":\"auto\",\"active_tap\":\"auto\",\"tools\":[{\"id\":\"bc63f2cf-3f12-4e9a-bbd9-073899562064\",\"type\":\"PanTool\"},{\"id\":\"9017cad4-90f5-4c8b-a424-e09b48398fbf\",\"type\":\"WheelZoomTool\"},{\"id\":\"271fc908-335d-43fa-8ecb-3568960fa782\",\"type\":\"BoxZoomTool\"},{\"id\":\"cafee4d2-6d77-43e1-afc8-67551ff45a32\",\"type\":\"SaveTool\"},{\"id\":\"b609c0d3-ab58-48d0-9c09-2a6dee1f1602\",\"type\":\"ResetTool\"},{\"id\":\"642282e0-e3e9-4983-93d0-0dc8da8887c1\",\"type\":\"HelpTool\"}]},\"id\":\"892dedea-cacd-49a3-a342-99cf128e6b19\",\"type\":\"Toolbar\"},{\"attributes\":{\"axis_label\":\"Beak Length (mm)\",\"formatter\":{\"id\":\"1d644b0c-b2f3-49ca-8e22-3173037e35f7\",\"type\":\"BasicTickFormatter\"},\"plot\":{\"id\":\"8e7a5b96-c947-45b6-8a59-d9be30135176\",\"subtype\":\"Figure\",\"type\":\"Plot\"},\"ticker\":{\"id\":\"00204e81-5a0d-4076-942a-317f5ddd7ce2\",\"type\":\"BasicTicker\"}},\"id\":\"da4d3518-1e31-4043-ade3-70378259544e\",\"type\":\"LinearAxis\"},{\"attributes\":{},\"id\":\"1d644b0c-b2f3-49ca-8e22-3173037e35f7\",\"type\":\"BasicTickFormatter\"},{\"attributes\":{\"fill_alpha\":{\"value\":0.5},\"fill_color\":{\"value\":\"tomato\"},\"line_alpha\":{\"value\":0.5},\"line_color\":{\"value\":\"tomato\"},\"x\":{\"field\":\"x\"},\"y\":{\"field\":\"y\"}},\"id\":\"2830b839-6eec-47c4-8a31-4fe283e29ec5\",\"type\":\"Circle\"},{\"attributes\":{\"bottom_units\":\"screen\",\"fill_alpha\":{\"value\":0.5},\"fill_color\":{\"value\":\"lightgrey\"},\"left_units\":\"screen\",\"level\":\"overlay\",\"line_alpha\":{\"value\":1.0},\"line_color\":{\"value\":\"black\"},\"line_dash\":[4,4],\"line_width\":{\"value\":2},\"plot\":null,\"render_mode\":\"css\",\"right_units\":\"screen\",\"top_units\":\"screen\"},\"id\":\"84f54440-6a71-455d-b1ae-fe1f20dff3fb\",\"type\":\"BoxAnnotation\"},{\"attributes\":{\"overlay\":{\"id\":\"84f54440-6a71-455d-b1ae-fe1f20dff3fb\",\"type\":\"BoxAnnotation\"},\"plot\":{\"id\":\"8e7a5b96-c947-45b6-8a59-d9be30135176\",\"subtype\":\"Figure\",\"type\":\"Plot\"}},\"id\":\"271fc908-335d-43fa-8ecb-3568960fa782\",\"type\":\"BoxZoomTool\"},{\"attributes\":{\"plot\":{\"id\":\"8e7a5b96-c947-45b6-8a59-d9be30135176\",\"subtype\":\"Figure\",\"type\":\"Plot\"}},\"id\":\"642282e0-e3e9-4983-93d0-0dc8da8887c1\",\"type\":\"HelpTool\"},{\"attributes\":{\"data_source\":{\"id\":\"5af1b11b-33ff-4fc9-a4ef-7226e849db34\",\"type\":\"ColumnDataSource\"},\"glyph\":{\"id\":\"2830b839-6eec-47c4-8a31-4fe283e29ec5\",\"type\":\"Circle\"},\"hover_glyph\":null,\"nonselection_glyph\":{\"id\":\"021c809f-4ab0-4316-a2bf-c3d747d316cf\",\"type\":\"Circle\"},\"selection_glyph\":null},\"id\":\"6ac3d998-3c73-4dfd-bfe7-cff42f6f2d80\",\"type\":\"GlyphRenderer\"},{\"attributes\":{\"plot\":{\"id\":\"8e7a5b96-c947-45b6-8a59-d9be30135176\",\"subtype\":\"Figure\",\"type\":\"Plot\"}},\"id\":\"bc63f2cf-3f12-4e9a-bbd9-073899562064\",\"type\":\"PanTool\"},{\"attributes\":{\"plot\":{\"id\":\"8e7a5b96-c947-45b6-8a59-d9be30135176\",\"subtype\":\"Figure\",\"type\":\"Plot\"},\"ticker\":{\"id\":\"00204e81-5a0d-4076-942a-317f5ddd7ce2\",\"type\":\"BasicTicker\"}},\"id\":\"dcb73fef-6332-4914-93af-2b977f6fc999\",\"type\":\"Grid\"},{\"attributes\":{\"data_source\":{\"id\":\"af06a78b-dd76-421a-b4a7-49364355f3d7\",\"type\":\"ColumnDataSource\"},\"glyph\":{\"id\":\"58663f1c-ab3c-4b06-b80e-b9745507d822\",\"type\":\"Circle\"},\"hover_glyph\":null,\"nonselection_glyph\":{\"id\":\"927e343c-89f6-416f-8339-337602b9a738\",\"type\":\"Circle\"},\"selection_glyph\":null},\"id\":\"86bc1b27-5805-43ff-80c5-392ad1484a69\",\"type\":\"GlyphRenderer\"},{\"attributes\":{\"fill_alpha\":{\"value\":0.1},\"fill_color\":{\"value\":\"#1f77b4\"},\"line_alpha\":{\"value\":0.1},\"line_color\":{\"value\":\"#1f77b4\"},\"x\":{\"field\":\"x\"},\"y\":{\"field\":\"y\"}},\"id\":\"927e343c-89f6-416f-8339-337602b9a738\",\"type\":\"Circle\"},{\"attributes\":{\"fill_alpha\":{\"value\":0.5},\"fill_color\":{\"value\":\"dodgerblue\"},\"line_alpha\":{\"value\":0.5},\"line_color\":{\"value\":\"dodgerblue\"},\"x\":{\"field\":\"x\"},\"y\":{\"field\":\"y\"}},\"id\":\"58663f1c-ab3c-4b06-b80e-b9745507d822\",\"type\":\"Circle\"},{\"attributes\":{\"axis_label\":\"Beak Depth (mm)\",\"formatter\":{\"id\":\"5fcab3c7-e416-4a96-827d-0e12bc27eb57\",\"type\":\"BasicTickFormatter\"},\"plot\":{\"id\":\"8e7a5b96-c947-45b6-8a59-d9be30135176\",\"subtype\":\"Figure\",\"type\":\"Plot\"},\"ticker\":{\"id\":\"847be54f-ba62-44fd-ac43-a4bf44504111\",\"type\":\"BasicTicker\"}},\"id\":\"d7ac67b2-c977-4b33-afaa-0b107602ff63\",\"type\":\"LinearAxis\"},{\"attributes\":{\"below\":[{\"id\":\"da4d3518-1e31-4043-ade3-70378259544e\",\"type\":\"LinearAxis\"}],\"left\":[{\"id\":\"d7ac67b2-c977-4b33-afaa-0b107602ff63\",\"type\":\"LinearAxis\"}],\"plot_height\":400,\"plot_width\":500,\"renderers\":[{\"id\":\"da4d3518-1e31-4043-ade3-70378259544e\",\"type\":\"LinearAxis\"},{\"id\":\"dcb73fef-6332-4914-93af-2b977f6fc999\",\"type\":\"Grid\"},{\"id\":\"d7ac67b2-c977-4b33-afaa-0b107602ff63\",\"type\":\"LinearAxis\"},{\"id\":\"b4924446-fdae-4e38-9741-28d1223021e6\",\"type\":\"Grid\"},{\"id\":\"84f54440-6a71-455d-b1ae-fe1f20dff3fb\",\"type\":\"BoxAnnotation\"},{\"id\":\"56025d74-5202-446e-9250-669fbeea8494\",\"type\":\"Legend\"},{\"id\":\"86bc1b27-5805-43ff-80c5-392ad1484a69\",\"type\":\"GlyphRenderer\"},{\"id\":\"6ac3d998-3c73-4dfd-bfe7-cff42f6f2d80\",\"type\":\"GlyphRenderer\"}],\"title\":{\"id\":\"54162ea0-e5d7-4ae7-9a49-233985fd8200\",\"type\":\"Title\"},\"tool_events\":{\"id\":\"17f88a80-dc10-45e5-8af5-01c9b8b2f20d\",\"type\":\"ToolEvents\"},\"toolbar\":{\"id\":\"892dedea-cacd-49a3-a342-99cf128e6b19\",\"type\":\"Toolbar\"},\"x_range\":{\"id\":\"7e09dffa-7984-41c9-abfe-2127ebd91754\",\"type\":\"DataRange1d\"},\"y_range\":{\"id\":\"69041609-fe85-4ddf-927c-46e22082ffdc\",\"type\":\"DataRange1d\"}},\"id\":\"8e7a5b96-c947-45b6-8a59-d9be30135176\",\"subtype\":\"Figure\",\"type\":\"Plot\"},{\"attributes\":{},\"id\":\"847be54f-ba62-44fd-ac43-a4bf44504111\",\"type\":\"BasicTicker\"},{\"attributes\":{\"plot\":{\"id\":\"8e7a5b96-c947-45b6-8a59-d9be30135176\",\"subtype\":\"Figure\",\"type\":\"Plot\"}},\"id\":\"cafee4d2-6d77-43e1-afc8-67551ff45a32\",\"type\":\"SaveTool\"},{\"attributes\":{\"fill_alpha\":{\"value\":0.1},\"fill_color\":{\"value\":\"#1f77b4\"},\"line_alpha\":{\"value\":0.1},\"line_color\":{\"value\":\"#1f77b4\"},\"x\":{\"field\":\"x\"},\"y\":{\"field\":\"y\"}},\"id\":\"021c809f-4ab0-4316-a2bf-c3d747d316cf\",\"type\":\"Circle\"},{\"attributes\":{\"callback\":null,\"column_names\":[\"y\",\"x\"],\"data\":{\"x\":[10.75,13.73,14.04,12.5,12.64,12.66,13.0,13.15,13.96,13.15,13.7,14.0,13.43,14.0,14.9,13.6,13.8,14.9,13.94,14.81,12.5,13.75,14.0,14.5,14.7,14.05,14.17,15.07,11.5,13.5,13.87,14.9,12.34,14.34,15.07,14.01,12.86,13.6,13.8,13.85,13.9,14.1,14.1,14.2,14.3,14.9,13.84,14.09,14.05,14.15,14.25,13.6,14.57,11.89,13.8,14.21,14.76,12.07,13.9,14.1,14.3,14.95,14.34,13.84,14.04,14.14,12.56,15.14,14.35,14.85,14.04,14.2,14.3,14.5,14.5,14.6,15.0,13.6,14.65,14.03,14.16,13.83,14.2,14.35,14.45,14.64,15.04,13.9,14.34,14.53,14.2,14.85,15.1,15.2,13.5,14.95,13.83,13.95,15.09,13.43,13.7,14.0,14.15,14.75,14.9,15.0,13.56,14.26,13.83,14.53,14.84,15.0,13.76,13.9,14.29,14.63,14.3,13.6,14.4,14.9,14.9,14.34,14.53,14.65,14.8,16.0,13.14,14.44,12.73,15.04,14.85,14.2,15.2,16.0,14.47,14.54,14.9,14.9,15.8,13.46,14.77,14.44,15.2,16.0,14.4,14.45,15.35,14.2,15.3,14.27,15.8,15.3,11.24,15.2,15.44,14.96],\"y\":[7.77,7.94,7.96,8.0,8.01,8.23,8.3,8.36,8.37,8.4,8.4,8.4,8.41,8.5,8.5,8.6,8.6,8.6,8.61,8.67,8.7,8.7,8.7,8.7,8.7,8.72,8.72,8.77,8.8,8.8,8.8,8.8,8.81,8.81,8.87,8.88,8.89,8.9,8.9,8.9,8.9,8.9,8.9,8.9,8.9,8.9,8.91,8.91,8.92,8.93,8.93,8.95,8.95,8.96,8.97,8.97,8.99,9.0,9.0,9.0,9.0,9.0,9.01,9.02,9.02,9.02,9.03,9.04,9.05,9.05,9.06,9.1,9.1,9.1,9.1,9.1,9.1,9.13,9.13,9.14,9.18,9.2,9.2,9.2,9.2,9.21,9.21,9.22,9.24,9.24,9.25,9.25,9.25,9.25,9.26,9.26,9.28,9.28,9.28,9.3,9.3,9.3,9.3,9.3,9.3,9.3,9.32,9.33,9.34,9.34,9.34,9.35,9.37,9.37,9.37,9.37,9.38,9.4,9.4,9.4,9.4,9.42,9.43,9.45,9.5,9.5,9.51,9.51,9.52,9.54,9.55,9.6,9.6,9.6,9.62,9.64,9.65,9.7,9.7,9.73,9.73,9.74,9.8,9.8,9.82,9.85,9.85,9.9,9.9,9.94,10.0,10.1,10.11,10.27,10.34,11.33]}},\"id\":\"5af1b11b-33ff-4fc9-a4ef-7226e849db34\",\"type\":\"ColumnDataSource\"},{\"attributes\":{},\"id\":\"5fcab3c7-e416-4a96-827d-0e12bc27eb57\",\"type\":\"BasicTickFormatter\"},{\"attributes\":{\"dimension\":1,\"plot\":{\"id\":\"8e7a5b96-c947-45b6-8a59-d9be30135176\",\"subtype\":\"Figure\",\"type\":\"Plot\"},\"ticker\":{\"id\":\"847be54f-ba62-44fd-ac43-a4bf44504111\",\"type\":\"BasicTicker\"}},\"id\":\"b4924446-fdae-4e38-9741-28d1223021e6\",\"type\":\"Grid\"},{\"attributes\":{\"callback\":null},\"id\":\"69041609-fe85-4ddf-927c-46e22082ffdc\",\"type\":\"DataRange1d\"},{\"attributes\":{},\"id\":\"00204e81-5a0d-4076-942a-317f5ddd7ce2\",\"type\":\"BasicTicker\"}],\"root_ids\":[\"8e7a5b96-c947-45b6-8a59-d9be30135176\"]},\"title\":\"Bokeh Application\",\"version\":\"0.12.2\"}};\n",
       "            var render_items = [{\"docid\":\"e47f105f-1ca0-4010-989e-da8df1fdb0b3\",\"elementid\":\"c8b1758f-158b-4553-a740-904d78c2fd23\",\"modelid\":\"8e7a5b96-c947-45b6-8a59-d9be30135176\"}];\n",
       "            \n",
       "            Bokeh.embed.embed_items(docs_json, render_items);\n",
       "        });\n",
       "      },\n",
       "      function(Bokeh) {\n",
       "      }\n",
       "    ];\n",
       "  \n",
       "    function run_inline_js() {\n",
       "      \n",
       "      if ((window.Bokeh !== undefined) || (force === \"1\")) {\n",
       "        for (var i = 0; i < inline_js.length; i++) {\n",
       "          inline_js[i](window.Bokeh);\n",
       "        }if (force === \"1\") {\n",
       "          display_loaded();\n",
       "        }} else if (Date.now() < window._bokeh_timeout) {\n",
       "        setTimeout(run_inline_js, 100);\n",
       "      } else if (!window._bokeh_failed_load) {\n",
       "        console.log(\"Bokeh: BokehJS failed to load within specified timeout.\");\n",
       "        window._bokeh_failed_load = true;\n",
       "      } else if (!force) {\n",
       "        var cell = $(\"#c8b1758f-158b-4553-a740-904d78c2fd23\").parents('.cell').data().cell;\n",
       "        cell.output_area.append_execute_result(NB_LOAD_WARNING)\n",
       "      }\n",
       "  \n",
       "    }\n",
       "  \n",
       "    if (window._bokeh_is_loading === 0) {\n",
       "      console.log(\"Bokeh: BokehJS loaded, going straight to plotting\");\n",
       "      run_inline_js();\n",
       "    } else {\n",
       "      load_libs(js_urls, function() {\n",
       "        console.log(\"Bokeh: BokehJS plotting callback run at\", now());\n",
       "        run_inline_js();\n",
       "      });\n",
       "    }\n",
       "  }(this));\n",
       "</script>"
      ]
     },
     "metadata": {},
     "output_type": "display_data"
    }
   ],
   "source": [
    "p = bokeh.plotting.figure(height=400, width=500,x_axis_label='Beak Length (mm)', \n",
    "                                       y_axis_label='Beak Depth (mm)')\n",
    "p.circle(bl_fortis, bd_fortis, color='dodgerblue', alpha=0.5, legend='fortis')\n",
    "p.circle(bl_scandens, bd_scandens, color='tomato', alpha=0.5, legend='scandens')\n",
    "\n",
    "bokeh.plotting.show(p)"
   ]
  },
  {
   "cell_type": "code",
   "execution_count": null,
   "metadata": {
    "collapsed": true
   },
   "outputs": [],
   "source": []
  }
 ],
 "metadata": {
  "anaconda-cloud": {},
  "kernelspec": {
   "display_name": "Python [conda root]",
   "language": "python",
   "name": "conda-root-py"
  },
  "language_info": {
   "codemirror_mode": {
    "name": "ipython",
    "version": 3
   },
   "file_extension": ".py",
   "mimetype": "text/x-python",
   "name": "python",
   "nbconvert_exporter": "python",
   "pygments_lexer": "ipython3",
   "version": "3.5.2"
  }
 },
 "nbformat": 4,
 "nbformat_minor": 1
}
